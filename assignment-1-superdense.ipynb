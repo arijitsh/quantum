{
 "cells": [
  {
   "cell_type": "markdown",
   "id": "freelance-iraqi",
   "metadata": {},
   "source": [
    "## Setting up arena for superdense coding."
   ]
  },
  {
   "cell_type": "code",
   "execution_count": 1,
   "id": "indonesian-optics",
   "metadata": {},
   "outputs": [],
   "source": [
    "from qiskit import *\n",
    "from qiskit.visualization import plot_histogram"
   ]
  },
  {
   "cell_type": "code",
   "execution_count": 17,
   "id": "designing-causing",
   "metadata": {},
   "outputs": [],
   "source": [
    "q = QuantumRegister (2)\n",
    "ca = ClassicalRegister (2)\n",
    "qc = QuantumCircuit(q, ca)"
   ]
  },
  {
   "cell_type": "code",
   "execution_count": 18,
   "id": "settled-shark",
   "metadata": {},
   "outputs": [
    {
     "data": {
      "text/plain": [
       "<qiskit.circuit.instructionset.InstructionSet at 0x7ff0dd339e80>"
      ]
     },
     "execution_count": 18,
     "metadata": {},
     "output_type": "execute_result"
    }
   ],
   "source": [
    "qc.h(q[0]) \n",
    "qc.cx(q[0],q[1])"
   ]
  },
  {
   "cell_type": "code",
   "execution_count": 19,
   "id": "deadly-enlargement",
   "metadata": {},
   "outputs": [],
   "source": [
    "def encode_message(qc, qubit, msg):\n",
    "    if msg == \"00\":\n",
    "        pass   \n",
    "    elif msg == \"10\":\n",
    "        qc.x(qubit)\n",
    "    elif msg == \"01\":\n",
    "        qc.z(qubit)\n",
    "    elif msg == \"11\":\n",
    "        qc.z(qubit)\n",
    "        qc.x(qubit)\n",
    "    else:\n",
    "        assert(false)"
   ]
  },
  {
   "cell_type": "markdown",
   "id": "searching-incentive",
   "metadata": {},
   "source": [
    "## Sending code of 11"
   ]
  },
  {
   "cell_type": "code",
   "execution_count": 20,
   "id": "activated-student",
   "metadata": {},
   "outputs": [],
   "source": [
    "encode_message(qc, q[0], \"11\")"
   ]
  },
  {
   "cell_type": "code",
   "execution_count": 21,
   "id": "blank-caribbean",
   "metadata": {},
   "outputs": [
    {
     "data": {
      "text/plain": [
       "<qiskit.circuit.instructionset.InstructionSet at 0x7ff0dd2697f0>"
      ]
     },
     "execution_count": 21,
     "metadata": {},
     "output_type": "execute_result"
    }
   ],
   "source": [
    "qc.cx(q[0],q[1])\n",
    "qc.h(q[0]) "
   ]
  },
  {
   "cell_type": "code",
   "execution_count": 22,
   "id": "recovered-plant",
   "metadata": {},
   "outputs": [
    {
     "data": {
      "image/png": "[encoded data removed]",
      "text/plain": [
       "<Figure size 520.978x204.68 with 1 Axes>"
      ]
     },
     "execution_count": 22,
     "metadata": {},
     "output_type": "execute_result"
    }
   ],
   "source": [
    "qc.measure(q[0],ca[0])\n",
    "qc.measure(q[1],ca[1])\n",
    "qc.draw(output=\"mpl\")"
   ]
  },
  {
   "cell_type": "markdown",
   "id": "historic-andrew",
   "metadata": {},
   "source": [
    "## Running Circuit on Simulator"
   ]
  },
  {
   "cell_type": "code",
   "execution_count": null,
   "id": "conservative-produce",
   "metadata": {},
   "outputs": [],
   "source": [
    "backend = Aer.get_backend('qasm_simulator')\n",
    "job_sim = execute(qc, backend, shots=1024)\n",
    "sim_result = job_sim.result()"
   ]
  },
  {
   "cell_type": "code",
   "execution_count": 12,
   "id": "elementary-heath",
   "metadata": {
    "scrolled": true
   },
   "outputs": [
    {
     "name": "stdout",
     "output_type": "stream",
     "text": [
      "{'11': 1024}\n"
     ]
    },
    {
     "data": {
      "image/png": "[encoded data removed]",
      "text/plain": [
       "<Figure size 504x360 with 1 Axes>"
      ]
     },
     "execution_count": 12,
     "metadata": {},
     "output_type": "execute_result"
    }
   ],
   "source": [
    "ca = sim_result.get_counts(qc)\n",
    "print(ca)\n",
    "plot_histogram(ca)"
   ]
  },
  {
   "cell_type": "markdown",
   "id": "advised-little",
   "metadata": {},
   "source": [
    "## Running Circuit on IBM-Q "
   ]
  },
  {
   "cell_type": "code",
   "execution_count": 14,
   "id": "purple-structure",
   "metadata": {},
   "outputs": [],
   "source": [
    "from qiskit import IBMQ\n",
    "from qiskit.providers.ibmq import least_busy"
   ]
  },
  {
   "cell_type": "code",
   "execution_count": 15,
   "id": "entertaining-marathon",
   "metadata": {},
   "outputs": [
    {
     "name": "stderr",
     "output_type": "stream",
     "text": [
      "configrc.store_credentials:WARNING:2021-02-07 10:26:35,280: Credentials already present. Set overwrite=True to overwrite.\n",
      "/home/arijit/anaconda3/envs/quantume/lib/python3.9/site-packages/qiskit/providers/ibmq/ibmqfactory.py:192: UserWarning: Timestamps in IBMQ backend properties, jobs, and job results are all now in local time instead of UTC.\n",
      "  warnings.warn('Timestamps in IBMQ backend properties, jobs, and job results '\n"
     ]
    },
    {
     "data": {
      "text/plain": [
       "<AccountProvider for IBMQ(hub='ibm-q', group='open', project='main')>"
      ]
     },
     "execution_count": 15,
     "metadata": {},
     "output_type": "execute_result"
    }
   ],
   "source": [
    "IBMQ.save_account('87b5504ba4d9e395e66a4573783065e9ae92da9fff677ac5250cc267642e769640d38f251e50a07ac35be446866b4c43d9df56a286fe67c10b5fdeb300cbc600')\n",
    "IBMQ.load_account()"
   ]
  },
  {
   "cell_type": "code",
   "execution_count": 16,
   "id": "macro-taxation",
   "metadata": {},
   "outputs": [
    {
     "name": "stdout",
     "output_type": "stream",
     "text": [
      "least busy backend:  ibmq_athens\n"
     ]
    }
   ],
   "source": [
    "provider = IBMQ.get_provider(hub='ibm-q')\n",
    "backend = least_busy(provider.backends(filters=lambda x: x.configuration().n_qubits >= 2 \n",
    "                                       and not x.configuration().simulator \n",
    "                                       and x.status().operational==True))\n",
    "print(\"least busy backend: \", backend)"
   ]
  },
  {
   "cell_type": "code",
   "execution_count": 23,
   "id": "civilian-narrow",
   "metadata": {},
   "outputs": [],
   "source": [
    "job = execute(qc, backend=backend, shots=1024)"
   ]
  },
  {
   "cell_type": "code",
   "execution_count": 26,
   "id": "moving-harris",
   "metadata": {},
   "outputs": [
    {
     "name": "stdout",
     "output_type": "stream",
     "text": [
      "Job Status: job has successfully run\n"
     ]
    }
   ],
   "source": [
    "job_monitor(job)"
   ]
  },
  {
   "cell_type": "code",
   "execution_count": 27,
   "id": "chicken-satin",
   "metadata": {},
   "outputs": [
    {
     "data": {
      "image/png": "[encoded data removed]",
      "text/plain": [
       "<Figure size 504x360 with 1 Axes>"
      ]
     },
     "execution_count": 27,
     "metadata": {},
     "output_type": "execute_result"
    }
   ],
   "source": [
    "result = job.result()\n",
    "plot_histogram(result.get_counts(qc))"
   ]
  }
 ],
 "metadata": {
  "kernelspec": {
   "display_name": "Python 3",
   "language": "python",
   "name": "python3"
  },
  "language_info": {
   "codemirror_mode": {
    "name": "ipython",
    "version": 3
   },
   "file_extension": ".py",
   "mimetype": "text/x-python",
   "name": "python",
   "nbconvert_exporter": "python",
   "pygments_lexer": "ipython3",
   "version": "3.9.1"
  }
 },
 "nbformat": 4,
 "nbformat_minor": 5
}
