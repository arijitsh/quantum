{
 "cells": [
  {
   "cell_type": "markdown",
   "metadata": {},
   "source": [
    "# Assignment 2 : QKD"
   ]
  },
  {
   "cell_type": "markdown",
   "metadata": {},
   "source": [
    "## BB84 protocol : communication without interception "
   ]
  },
  {
   "cell_type": "code",
   "execution_count": 2,
   "metadata": {},
   "outputs": [
    {
     "name": "stdout",
     "output_type": "stream",
     "text": [
      "\n",
      " Communication without interception\n",
      "[1, 1, 1, 1, 1, 1]  Key at Alice's side\n",
      "[1, 1, 1, 1, 1, 1]  Key at Bob's side\n"
     ]
    }
   ],
   "source": [
    "%run 'a2-bb84'"
   ]
  },
  {
   "cell_type": "markdown",
   "metadata": {},
   "source": [
    "## BB84 protocol : communication with CNOT attack"
   ]
  },
  {
   "cell_type": "code",
   "execution_count": 7,
   "metadata": {},
   "outputs": [
    {
     "name": "stdout",
     "output_type": "stream",
     "text": [
      "\n",
      " Communication with Interception from Eve\n",
      "[0, 1, 0]  Key at Alice's side\n",
      "[0, 1, 0]  Key at Bob's side\n",
      "[]  Key at Eve's side\n"
     ]
    }
   ],
   "source": [
    "%run 'a2-bb84' '1'"
   ]
  },
  {
   "cell_type": "markdown",
   "metadata": {},
   "source": [
    "## Ekert Protocol : communication without interception"
   ]
  },
  {
   "cell_type": "code",
   "execution_count": 10,
   "metadata": {},
   "outputs": [
    {
     "name": "stdout",
     "output_type": "stream",
     "text": [
      "[0, 1, 1, 0, 0, 0, 1, 0, 0, 0, 1, 0, 1, 0]  Key at Alice's side\n",
      "[0, 1, 1, 0, 0, 0, 1, 0, 0, 0, 1, 0, 1, 0] Key at Bob's side\n"
     ]
    }
   ],
   "source": [
    "%run 'a2-ekert'"
   ]
  },
  {
   "cell_type": "markdown",
   "metadata": {},
   "source": [
    "## SQKD protocol : communication without interception"
   ]
  },
  {
   "cell_type": "code",
   "execution_count": 11,
   "metadata": {},
   "outputs": [
    {
     "name": "stdout",
     "output_type": "stream",
     "text": [
      "\n",
      " Communication without interception\n",
      "[0, 1, 1, 1, 1, 0, 0, 1, 0, 0, 1, 1, 0, 1, 0, 0, 1, 1]  Key at Alice's side\n",
      "[0, 1, 1, 1, 1, 0, 0, 1, 0, 0, 1, 1, 0, 1, 0, 0, 1, 1]  Key at Bob's side\n"
     ]
    }
   ],
   "source": [
    "%run 'a2-sqkd'"
   ]
  }
 ],
 "metadata": {
  "kernelspec": {
   "display_name": "Python 3",
   "language": "python",
   "name": "python3"
  },
  "language_info": {
   "codemirror_mode": {
    "name": "ipython",
    "version": 3
   },
   "file_extension": ".py",
   "mimetype": "text/x-python",
   "name": "python",
   "nbconvert_exporter": "python",
   "pygments_lexer": "ipython3",
   "version": "3.9.1"
  }
 },
 "nbformat": 4,
 "nbformat_minor": 4
}
