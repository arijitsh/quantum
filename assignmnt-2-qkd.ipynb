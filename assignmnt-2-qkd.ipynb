{
 "cells": [
  {
   "cell_type": "markdown",
   "metadata": {},
   "source": [
    "# Assignment 2 - QKD : BB84\n",
    "\n",
    "Assignments for Endsem.\n",
    "\n",
    "1. Implement BB84, Ekert and SQKD in Qiskit and provide the raw key generated at Alice's as well as Bob's ends.\n",
    "2. Implement CNOT attack on BB84, Ekert and SQKD. Provide the strings generated at Alice's place, Bob's place and Eve's end."
   ]
  },
  {
   "cell_type": "code",
   "execution_count": 2,
   "metadata": {},
   "outputs": [],
   "source": [
    "from qiskit import QuantumCircuit, Aer, transpile, assemble, QuantumRegister, ClassicalRegister, execute, BasicAer\n",
    "from qiskit.visualization import plot_histogram, plot_bloch_multivector\n",
    "from numpy.random import randint\n",
    "import numpy as np"
   ]
  },
  {
   "cell_type": "markdown",
   "metadata": {},
   "source": [
    "# BB84 :Methods to encode and measure bits"
   ]
  },
  {
   "cell_type": "code",
   "execution_count": 2,
   "metadata": {},
   "outputs": [],
   "source": [
    "def encode_message(bits, bases):\n",
    "    message = []\n",
    "    for i in range(n):\n",
    "        qc = QuantumCircuit(1,1)\n",
    "        if bases[i] == 0: # Prepare qubit in Z-basis\n",
    "            if bits[i] == 0:\n",
    "                pass \n",
    "            else:\n",
    "                qc.x(0)\n",
    "        else: # Prepare qubit in X-basis\n",
    "            if bits[i] == 0:\n",
    "                qc.h(0)\n",
    "            else:\n",
    "                qc.x(0)\n",
    "                qc.h(0)\n",
    "        qc.barrier()\n",
    "        message.append(qc)\n",
    "    return message\n",
    "\n",
    "def measure_message(message, bases):\n",
    "    backend = Aer.get_backend('qasm_simulator')\n",
    "    measurements = []\n",
    "    for q in range(n):\n",
    "        if bases[q] == 0: # measuring in Z-basis\n",
    "            message[q].measure(0,0)\n",
    "        if bases[q] == 1: # measuring in X-basis\n",
    "            message[q].h(0)\n",
    "            message[q].measure(0,0)\n",
    "        qasm_sim = Aer.get_backend('qasm_simulator')\n",
    "        qobj = assemble(message[q], shots=1, memory=True)\n",
    "        result = qasm_sim.run(qobj).result()\n",
    "        measured_bit = int(result.get_memory()[0])\n",
    "        measurements.append(measured_bit)\n",
    "    return measurements"
   ]
  },
  {
   "cell_type": "markdown",
   "metadata": {},
   "source": [
    "# Method to discard useless bits"
   ]
  },
  {
   "cell_type": "code",
   "execution_count": 3,
   "metadata": {},
   "outputs": [],
   "source": [
    "def remove_garbage(a_bases, b_bases, bits):\n",
    "    good_bits = []\n",
    "    for q in range(n):\n",
    "        if a_bases[q] == b_bases[q]:\n",
    "            good_bits.append(bits[q])\n",
    "    return good_bits"
   ]
  },
  {
   "cell_type": "markdown",
   "metadata": {},
   "source": [
    "# BB84 : Alice and Bob exchages keys \n"
   ]
  },
  {
   "cell_type": "code",
   "execution_count": 4,
   "metadata": {},
   "outputs": [
    {
     "name": "stdout",
     "output_type": "stream",
     "text": [
      "[0, 1, 1, 0, 1, 1, 1, 0, 0, 0, 0, 0, 1, 0, 0, 1]\n",
      "[0, 1, 1, 0, 1, 1, 1, 0, 0, 0, 0, 0, 1, 0, 0, 1]\n"
     ]
    }
   ],
   "source": [
    "np.random.seed(seed=0)\n",
    "n = 30\n",
    "\n",
    "alice_bits = randint(2, size=n)\n",
    "\n",
    "alice_bases = randint(2, size=n)\n",
    "message = encode_message(alice_bits, alice_bases)\n",
    "\n",
    "bob_bases = randint(2, size=n)\n",
    "bob_results = measure_message(message, bob_bases)\n",
    "\n",
    "alice_key = remove_garbage(alice_bases, bob_bases, alice_bits)\n",
    "bob_key = remove_garbage(alice_bases, bob_bases, bob_results)\n",
    "\n",
    "print(alice_key)\n",
    "print(bob_key)"
   ]
  },
  {
   "cell_type": "markdown",
   "metadata": {},
   "source": [
    "# Ekert : Create entangled electrons"
   ]
  },
  {
   "cell_type": "code",
   "execution_count": 21,
   "metadata": {},
   "outputs": [],
   "source": [
    "# Initialing the circuit again\n",
    "qr = QuantumRegister(2, name=\"qr\")\n",
    "cr = ClassicalRegister(4, name=\"cr\")"
   ]
  },
  {
   "cell_type": "code",
   "execution_count": 22,
   "metadata": {},
   "outputs": [
    {
     "data": {
      "image/png": "[encoded data removed]",
      "text/plain": [
       "<Figure size 275.706x204.68 with 1 Axes>"
      ]
     },
     "execution_count": 22,
     "metadata": {},
     "output_type": "execute_result"
    }
   ],
   "source": [
    "#creating entangled electrons\n",
    "\n",
    "qc = QuantumCircuit(qr, cr)\n",
    "qc.x(qr[0])\n",
    "qc.x(qr[1])\n",
    "qc.h(qr[0])\n",
    "qc.cx(qr[0],qr[1])\n",
    "\n",
    "qc.draw(output=\"mpl\")\n",
    "\n",
    "# qr[0] belongs to Alice\n",
    "# qr[1] belongs to Bob"
   ]
  },
  {
   "cell_type": "markdown",
   "metadata": {},
   "source": [
    "## Measurement Circuits"
   ]
  },
  {
   "cell_type": "code",
   "execution_count": 23,
   "metadata": {},
   "outputs": [],
   "source": [
    "def measure_ekert_alice(q, c, qr,cr):\n",
    "    # measure the spin projection of Alice's qubit onto the a_1 direction (X basis)\n",
    "    a1 = QuantumCircuit(q, c, name='a1')\n",
    "    a1.h(qr)\n",
    "    a1.measure(qr,cr)\n",
    "    # measure the spin projection of Alice's qubit onto the a_2 direction (W basis)\n",
    "    a2 = QuantumCircuit(q, c, name='a2')\n",
    "    a2.s(qr)\n",
    "    a2.h(qr)\n",
    "    a2.t(qr)\n",
    "    a2.h(qr)\n",
    "    a2.measure(qr,cr)\n",
    "    # measure the spin projection of Alice's qubit onto the a_3 direction (standard Z basis)\n",
    "    a3 = QuantumCircuit(q, c, name='a3')\n",
    "    a3.measure(qr,cr)\n",
    "    return [a1,a2,a3]\n",
    "\n",
    "def measure_ekert_bob(q, c, qr,cr):\n",
    "    # measure the spin projection of Bob's qubit onto the b_1 direction (W basis)\n",
    "    b1 = QuantumCircuit(q, c, name='b1')\n",
    "    b1.s(qr)\n",
    "    b1.h(qr)\n",
    "    b1.t(qr)\n",
    "    b1.h(qr)\n",
    "    b1.measure(qr,cr)\n",
    "    # measure the spin projection of Bob's qubit onto the b_2 direction (standard Z basis)\n",
    "    b2 = QuantumCircuit(q, c, name='b2')\n",
    "    b2.measure(qr,cr)\n",
    "    # measure the spin projection of Bob's qubit onto the b_3 direction (V basis)\n",
    "    b3 = QuantumCircuit(q, c, name='b3')\n",
    "    b3.s(qr)\n",
    "    b3.h(qr)\n",
    "    b3.tdg(qr)\n",
    "    b3.h(qr)\n",
    "    b3.measure(qr,cr)\n",
    "    return [b1,b2,b3]\n"
   ]
  },
  {
   "cell_type": "markdown",
   "metadata": {},
   "source": [
    "## Ekert : Preparing bits"
   ]
  },
  {
   "cell_type": "code",
   "execution_count": 24,
   "metadata": {},
   "outputs": [],
   "source": [
    "n = 100\n",
    "\n",
    "a_bases = [randint(1, 3) for i in range(n)]\n",
    "b_bases = [randint(1, 3) for i in range(n)]\n",
    "\n",
    "circuits = []\n",
    "\n",
    "for i in range(n):\n",
    "    circuitName = str(i) + ':A' + str(a_bases[i]) + '_B' + str(b_bases[i])\n",
    "    a_measures = measure_ekert_alice(qr, cr, qr[0],cr[0])\n",
    "    b_measures = measure_ekert_bob(qr, cr, qr[1],cr[1])\n",
    "    circuitName = qc + a_measures[a_bases[i]-1] + b_measures[b_bases[i]-1] \n",
    "    circuits.append(circuitName)\n",
    "\n"
   ]
  },
  {
   "cell_type": "code",
   "execution_count": 33,
   "metadata": {},
   "outputs": [
    {
     "name": "stdout",
     "output_type": "stream",
     "text": [
      "circuit1621\n"
     ]
    },
    {
     "data": {
      "image/png": "[encoded data removed]",
      "text/plain": [
       "<Figure size 396.106x204.68 with 1 Axes>"
      ]
     },
     "execution_count": 33,
     "metadata": {},
     "output_type": "execute_result"
    }
   ],
   "source": [
    "print(circuits[0].name)\n",
    "circuits[0].draw(output=\"mpl\")"
   ]
  },
  {
   "cell_type": "code",
   "execution_count": 35,
   "metadata": {},
   "outputs": [
    {
     "name": "stdout",
     "output_type": "stream",
     "text": [
      "circuit1629\n"
     ]
    },
    {
     "data": {
      "image/png": "[encoded data removed]",
      "text/plain": [
       "<Figure size 576.706x204.68 with 1 Axes>"
      ]
     },
     "execution_count": 35,
     "metadata": {},
     "output_type": "execute_result"
    }
   ],
   "source": [
    "print(circuits[1].name)\n",
    "circuits[1].draw(output=\"mpl\")"
   ]
  },
  {
   "cell_type": "code",
   "execution_count": 39,
   "metadata": {},
   "outputs": [],
   "source": [
    "backend=BasicAer.get_backend('qasm_simulator')\n",
    "result = execute(circuits, backend=backend, shots=50).result()  "
   ]
  },
  {
   "cell_type": "code",
   "execution_count": 44,
   "metadata": {},
   "outputs": [
    {
     "data": {
      "text/plain": [
       "{'0010': 19, '0001': 10, '0011': 15, '0000': 6}"
      ]
     },
     "execution_count": 44,
     "metadata": {},
     "output_type": "execute_result"
    }
   ],
   "source": [
    "result.get_counts(circuits[0])"
   ]
  },
  {
   "cell_type": "code",
   "execution_count": 45,
   "metadata": {},
   "outputs": [
    {
     "data": {
      "text/plain": [
       "{'0010': 17, '0001': 25, '0011': 6, '0000': 2}"
      ]
     },
     "execution_count": 45,
     "metadata": {},
     "output_type": "execute_result"
    }
   ],
   "source": [
    "result.get_counts(circuits[1])"
   ]
  },
  {
   "cell_type": "code",
   "execution_count": 46,
   "metadata": {},
   "outputs": [
    {
     "data": {
      "image/png": "[encoded data removed]",
      "text/plain": [
       "<Figure size 504x360 with 1 Axes>"
      ]
     },
     "execution_count": 46,
     "metadata": {},
     "output_type": "execute_result"
    }
   ],
   "source": [
    "plot_histogram(result.get_counts(circuits[0]))"
   ]
  },
  {
   "cell_type": "code",
   "execution_count": 48,
   "metadata": {},
   "outputs": [
    {
     "data": {
      "image/png": "[encoded data removed]",
      "text/plain": [
       "<Figure size 504x360 with 1 Axes>"
      ]
     },
     "execution_count": 48,
     "metadata": {},
     "output_type": "execute_result"
    }
   ],
   "source": [
    "plot_histogram(result.get_counts(circuits[1]))"
   ]
  },
  {
   "cell_type": "markdown",
   "metadata": {},
   "source": [
    "# SQKD"
   ]
  },
  {
   "cell_type": "code",
   "execution_count": null,
   "metadata": {},
   "outputs": [],
   "source": []
  }
 ],
 "metadata": {
  "kernelspec": {
   "display_name": "Python 3",
   "language": "python",
   "name": "python3"
  },
  "language_info": {
   "codemirror_mode": {
    "name": "ipython",
    "version": 3
   },
   "file_extension": ".py",
   "mimetype": "text/x-python",
   "name": "python",
   "nbconvert_exporter": "python",
   "pygments_lexer": "ipython3",
   "version": "3.9.1"
  }
 },
 "nbformat": 4,
 "nbformat_minor": 4
}
